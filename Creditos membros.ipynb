{
 "cells": [
  {
   "cell_type": "code",
   "execution_count": 1,
   "id": "13a8a115",
   "metadata": {},
   "outputs": [],
   "source": [
    "import pandas as pd"
   ]
  },
  {
   "cell_type": "code",
   "execution_count": 2,
   "id": "6951f473",
   "metadata": {},
   "outputs": [],
   "source": [
    "file_membros = \"Y:/Your members June 7, 2024.csv\""
   ]
  },
  {
   "cell_type": "code",
   "execution_count": 3,
   "id": "b8aaa84b",
   "metadata": {},
   "outputs": [
    {
     "data": {
      "text/html": [
       "<div>\n",
       "<style scoped>\n",
       "    .dataframe tbody tr th:only-of-type {\n",
       "        vertical-align: middle;\n",
       "    }\n",
       "\n",
       "    .dataframe tbody tr th {\n",
       "        vertical-align: top;\n",
       "    }\n",
       "\n",
       "    .dataframe thead th {\n",
       "        text-align: right;\n",
       "    }\n",
       "</style>\n",
       "<table border=\"1\" class=\"dataframe\">\n",
       "  <thead>\n",
       "    <tr style=\"text-align: right;\">\n",
       "      <th></th>\n",
       "      <th>Membros</th>\n",
       "      <th>Nível atual</th>\n",
       "      <th>Link do perfil</th>\n",
       "    </tr>\n",
       "  </thead>\n",
       "  <tbody>\n",
       "    <tr>\n",
       "      <th>0</th>\n",
       "      <td>Fabio Alves</td>\n",
       "      <td>Membro Normal</td>\n",
       "      <td>https://www.youtube.com/channel/UCfvwXQGrOYvIo...</td>\n",
       "    </tr>\n",
       "    <tr>\n",
       "      <th>1</th>\n",
       "      <td>Andrei Ribolis</td>\n",
       "      <td>Membro Normal</td>\n",
       "      <td>https://www.youtube.com/channel/UCgl0Lvsd314iq...</td>\n",
       "    </tr>\n",
       "    <tr>\n",
       "      <th>2</th>\n",
       "      <td>Super Games racing</td>\n",
       "      <td>Membro Normal</td>\n",
       "      <td>https://www.youtube.com/channel/UCiWmHl7v2sgWP...</td>\n",
       "    </tr>\n",
       "    <tr>\n",
       "      <th>3</th>\n",
       "      <td>Henrique Giacomini</td>\n",
       "      <td>Lite Plus+</td>\n",
       "      <td>https://www.youtube.com/channel/UCcZSP_OcA0GaN...</td>\n",
       "    </tr>\n",
       "    <tr>\n",
       "      <th>4</th>\n",
       "      <td>HenriqueFerreira</td>\n",
       "      <td>Lite Plus+</td>\n",
       "      <td>https://www.youtube.com/channel/UCEJ_IV06J6GqZ...</td>\n",
       "    </tr>\n",
       "  </tbody>\n",
       "</table>\n",
       "</div>"
      ],
      "text/plain": [
       "              Membros    Nível atual  \\\n",
       "0         Fabio Alves  Membro Normal   \n",
       "1      Andrei Ribolis  Membro Normal   \n",
       "2  Super Games racing  Membro Normal   \n",
       "3  Henrique Giacomini     Lite Plus+   \n",
       "4    HenriqueFerreira     Lite Plus+   \n",
       "\n",
       "                                      Link do perfil  \n",
       "0  https://www.youtube.com/channel/UCfvwXQGrOYvIo...  \n",
       "1  https://www.youtube.com/channel/UCgl0Lvsd314iq...  \n",
       "2  https://www.youtube.com/channel/UCiWmHl7v2sgWP...  \n",
       "3  https://www.youtube.com/channel/UCcZSP_OcA0GaN...  \n",
       "4  https://www.youtube.com/channel/UCEJ_IV06J6GqZ...  "
      ]
     },
     "execution_count": 3,
     "metadata": {},
     "output_type": "execute_result"
    }
   ],
   "source": [
    "tabela_membros = pd.read_csv(file_membros)\n",
    "tabela_membros = tabela_membros[['Membros', 'Nível atual', 'Link do perfil']]\n",
    "tabela_membros.head()"
   ]
  },
  {
   "cell_type": "code",
   "execution_count": 4,
   "id": "62694b4a",
   "metadata": {},
   "outputs": [],
   "source": [
    "# Mapeamento para criar uma ordem personalizada\n",
    "order_mapping = {'Lite Plus+': 3, 'Membro Normal': 2, 'Membro Premium': 1}"
   ]
  },
  {
   "cell_type": "code",
   "execution_count": 5,
   "id": "4a56e13c",
   "metadata": {},
   "outputs": [],
   "source": [
    "tabela_membros['Order'] = tabela_membros['Nível atual'].map(order_mapping)"
   ]
  },
  {
   "cell_type": "code",
   "execution_count": 6,
   "id": "bc5d51f9",
   "metadata": {},
   "outputs": [
    {
     "data": {
      "text/html": [
       "<div>\n",
       "<style scoped>\n",
       "    .dataframe tbody tr th:only-of-type {\n",
       "        vertical-align: middle;\n",
       "    }\n",
       "\n",
       "    .dataframe tbody tr th {\n",
       "        vertical-align: top;\n",
       "    }\n",
       "\n",
       "    .dataframe thead th {\n",
       "        text-align: right;\n",
       "    }\n",
       "</style>\n",
       "<table border=\"1\" class=\"dataframe\">\n",
       "  <thead>\n",
       "    <tr style=\"text-align: right;\">\n",
       "      <th></th>\n",
       "      <th>Membros</th>\n",
       "      <th>Nível atual</th>\n",
       "      <th>Link do perfil</th>\n",
       "      <th>Order</th>\n",
       "    </tr>\n",
       "  </thead>\n",
       "  <tbody>\n",
       "    <tr>\n",
       "      <th>0</th>\n",
       "      <td>Fabio Alves</td>\n",
       "      <td>Membro Normal</td>\n",
       "      <td>https://www.youtube.com/channel/UCfvwXQGrOYvIo...</td>\n",
       "      <td>2</td>\n",
       "    </tr>\n",
       "    <tr>\n",
       "      <th>1</th>\n",
       "      <td>Andrei Ribolis</td>\n",
       "      <td>Membro Normal</td>\n",
       "      <td>https://www.youtube.com/channel/UCgl0Lvsd314iq...</td>\n",
       "      <td>2</td>\n",
       "    </tr>\n",
       "    <tr>\n",
       "      <th>2</th>\n",
       "      <td>Super Games racing</td>\n",
       "      <td>Membro Normal</td>\n",
       "      <td>https://www.youtube.com/channel/UCiWmHl7v2sgWP...</td>\n",
       "      <td>2</td>\n",
       "    </tr>\n",
       "    <tr>\n",
       "      <th>3</th>\n",
       "      <td>Henrique Giacomini</td>\n",
       "      <td>Lite Plus+</td>\n",
       "      <td>https://www.youtube.com/channel/UCcZSP_OcA0GaN...</td>\n",
       "      <td>3</td>\n",
       "    </tr>\n",
       "    <tr>\n",
       "      <th>4</th>\n",
       "      <td>HenriqueFerreira</td>\n",
       "      <td>Lite Plus+</td>\n",
       "      <td>https://www.youtube.com/channel/UCEJ_IV06J6GqZ...</td>\n",
       "      <td>3</td>\n",
       "    </tr>\n",
       "  </tbody>\n",
       "</table>\n",
       "</div>"
      ],
      "text/plain": [
       "              Membros    Nível atual  \\\n",
       "0         Fabio Alves  Membro Normal   \n",
       "1      Andrei Ribolis  Membro Normal   \n",
       "2  Super Games racing  Membro Normal   \n",
       "3  Henrique Giacomini     Lite Plus+   \n",
       "4    HenriqueFerreira     Lite Plus+   \n",
       "\n",
       "                                      Link do perfil  Order  \n",
       "0  https://www.youtube.com/channel/UCfvwXQGrOYvIo...      2  \n",
       "1  https://www.youtube.com/channel/UCgl0Lvsd314iq...      2  \n",
       "2  https://www.youtube.com/channel/UCiWmHl7v2sgWP...      2  \n",
       "3  https://www.youtube.com/channel/UCcZSP_OcA0GaN...      3  \n",
       "4  https://www.youtube.com/channel/UCEJ_IV06J6GqZ...      3  "
      ]
     },
     "execution_count": 6,
     "metadata": {},
     "output_type": "execute_result"
    }
   ],
   "source": [
    "tabela_membros.head()"
   ]
  },
  {
   "cell_type": "code",
   "execution_count": 7,
   "id": "d7558d7e",
   "metadata": {},
   "outputs": [
    {
     "data": {
      "text/plain": [
       "(41, 4)"
      ]
     },
     "execution_count": 7,
     "metadata": {},
     "output_type": "execute_result"
    }
   ],
   "source": [
    "tabela_membros.shape"
   ]
  },
  {
   "cell_type": "code",
   "execution_count": 8,
   "id": "1f117b02",
   "metadata": {},
   "outputs": [
    {
     "data": {
      "text/html": [
       "<div>\n",
       "<style scoped>\n",
       "    .dataframe tbody tr th:only-of-type {\n",
       "        vertical-align: middle;\n",
       "    }\n",
       "\n",
       "    .dataframe tbody tr th {\n",
       "        vertical-align: top;\n",
       "    }\n",
       "\n",
       "    .dataframe thead th {\n",
       "        text-align: right;\n",
       "    }\n",
       "</style>\n",
       "<table border=\"1\" class=\"dataframe\">\n",
       "  <thead>\n",
       "    <tr style=\"text-align: right;\">\n",
       "      <th></th>\n",
       "      <th>Membros</th>\n",
       "      <th>Nível atual</th>\n",
       "      <th>Link do perfil</th>\n",
       "      <th>Order</th>\n",
       "    </tr>\n",
       "  </thead>\n",
       "  <tbody>\n",
       "    <tr>\n",
       "      <th>0</th>\n",
       "      <td>Felipe Neves</td>\n",
       "      <td>Membro Premium</td>\n",
       "      <td>https://www.youtube.com/channel/UCxM5VPQ4DFAec...</td>\n",
       "      <td>1</td>\n",
       "    </tr>\n",
       "    <tr>\n",
       "      <th>1</th>\n",
       "      <td>Flávio Barbosa</td>\n",
       "      <td>Membro Premium</td>\n",
       "      <td>https://www.youtube.com/channel/UCKvdIc2e9KhHL...</td>\n",
       "      <td>1</td>\n",
       "    </tr>\n",
       "    <tr>\n",
       "      <th>2</th>\n",
       "      <td>Andrei Ribolis</td>\n",
       "      <td>Membro Normal</td>\n",
       "      <td>https://www.youtube.com/channel/UCgl0Lvsd314iq...</td>\n",
       "      <td>2</td>\n",
       "    </tr>\n",
       "    <tr>\n",
       "      <th>3</th>\n",
       "      <td>Eduardo Spanemberg 96</td>\n",
       "      <td>Membro Normal</td>\n",
       "      <td>https://www.youtube.com/channel/UCMK8N4Dm4FSg-...</td>\n",
       "      <td>2</td>\n",
       "    </tr>\n",
       "    <tr>\n",
       "      <th>4</th>\n",
       "      <td>Fabio Alves</td>\n",
       "      <td>Membro Normal</td>\n",
       "      <td>https://www.youtube.com/channel/UCfvwXQGrOYvIo...</td>\n",
       "      <td>2</td>\n",
       "    </tr>\n",
       "  </tbody>\n",
       "</table>\n",
       "</div>"
      ],
      "text/plain": [
       "                 Membros     Nível atual  \\\n",
       "0           Felipe Neves  Membro Premium   \n",
       "1         Flávio Barbosa  Membro Premium   \n",
       "2         Andrei Ribolis   Membro Normal   \n",
       "3  Eduardo Spanemberg 96   Membro Normal   \n",
       "4            Fabio Alves   Membro Normal   \n",
       "\n",
       "                                      Link do perfil  Order  \n",
       "0  https://www.youtube.com/channel/UCxM5VPQ4DFAec...      1  \n",
       "1  https://www.youtube.com/channel/UCKvdIc2e9KhHL...      1  \n",
       "2  https://www.youtube.com/channel/UCgl0Lvsd314iq...      2  \n",
       "3  https://www.youtube.com/channel/UCMK8N4Dm4FSg-...      2  \n",
       "4  https://www.youtube.com/channel/UCfvwXQGrOYvIo...      2  "
      ]
     },
     "execution_count": 8,
     "metadata": {},
     "output_type": "execute_result"
    }
   ],
   "source": [
    "tabela_membros = tabela_membros.sort_values(by=['Order', 'Membros'], ascending=[True, True],\n",
    "                                           ignore_index=True)\n",
    "tabela_membros.head()"
   ]
  },
  {
   "cell_type": "code",
   "execution_count": 19,
   "id": "2793e7d3",
   "metadata": {},
   "outputs": [
    {
     "name": "stdout",
     "output_type": "stream",
     "text": [
      "Arquivo dos membros gerado com sucesso\n"
     ]
    }
   ],
   "source": [
    "with open('Y:/membros.txt', 'w') as file:\n",
    "\n",
    "    membro_premium = tabela_membros[tabela_membros['Nível atual'] == 'Membro Premium']['Membros'].tolist()\n",
    "    membro_normal = tabela_membros[tabela_membros['Nível atual'] == 'Membro Normal']['Membros'].tolist()\n",
    "    membro_lite = tabela_membros[tabela_membros['Nível atual'] == 'Lite Plus+']['Membros'].tolist()\n",
    "    \n",
    "    file.write(\"Membros Premium:\\n\")\n",
    "    for membro in membro_premium:\n",
    "        file.write(f\"{membro}\\n\")\n",
    "        \n",
    "    file.write(\"\\nMembros Normal:\\n\")\n",
    "    for membro in membro_normal:\n",
    "        file.write(f\"{membro}\\n\")\n",
    "        \n",
    "    file.write(\"\\nMembros Lite Plus+:\\n\")\n",
    "    for membro in membro_lite:\n",
    "        file.write(f\"{membro}\\n\")\n",
    "        \n",
    "print(\"Arquivo dos membros gerado com sucesso\")"
   ]
  },
  {
   "cell_type": "code",
   "execution_count": null,
   "id": "50a3c27a",
   "metadata": {},
   "outputs": [],
   "source": []
  },
  {
   "cell_type": "markdown",
   "id": "03e975f5",
   "metadata": {},
   "source": [
    "#### Quem deixou o clube de membros"
   ]
  },
  {
   "cell_type": "code",
   "execution_count": 10,
   "id": "7ab4800f",
   "metadata": {},
   "outputs": [],
   "source": [
    "file_membros_old =  \"Y:/Your members May 27, 2024.csv\""
   ]
  },
  {
   "cell_type": "code",
   "execution_count": 11,
   "id": "46db2924",
   "metadata": {},
   "outputs": [
    {
     "data": {
      "text/html": [
       "<div>\n",
       "<style scoped>\n",
       "    .dataframe tbody tr th:only-of-type {\n",
       "        vertical-align: middle;\n",
       "    }\n",
       "\n",
       "    .dataframe tbody tr th {\n",
       "        vertical-align: top;\n",
       "    }\n",
       "\n",
       "    .dataframe thead th {\n",
       "        text-align: right;\n",
       "    }\n",
       "</style>\n",
       "<table border=\"1\" class=\"dataframe\">\n",
       "  <thead>\n",
       "    <tr style=\"text-align: right;\">\n",
       "      <th></th>\n",
       "      <th>Membros</th>\n",
       "      <th>Nível atual</th>\n",
       "      <th>Link do perfil</th>\n",
       "      <th>Order</th>\n",
       "    </tr>\n",
       "  </thead>\n",
       "  <tbody>\n",
       "    <tr>\n",
       "      <th>0</th>\n",
       "      <td>Felipe Neves</td>\n",
       "      <td>Membro Premium</td>\n",
       "      <td>https://www.youtube.com/channel/UCxM5VPQ4DFAec...</td>\n",
       "      <td>1</td>\n",
       "    </tr>\n",
       "    <tr>\n",
       "      <th>1</th>\n",
       "      <td>Flávio Barbosa</td>\n",
       "      <td>Membro Premium</td>\n",
       "      <td>https://www.youtube.com/channel/UCKvdIc2e9KhHL...</td>\n",
       "      <td>1</td>\n",
       "    </tr>\n",
       "    <tr>\n",
       "      <th>2</th>\n",
       "      <td>Eduardo Spanemberg 96</td>\n",
       "      <td>Membro Normal</td>\n",
       "      <td>https://www.youtube.com/channel/UCMK8N4Dm4FSg-...</td>\n",
       "      <td>2</td>\n",
       "    </tr>\n",
       "    <tr>\n",
       "      <th>3</th>\n",
       "      <td>Felipe Alves</td>\n",
       "      <td>Membro Normal</td>\n",
       "      <td>https://www.youtube.com/channel/UCjQtafDeRJt3V...</td>\n",
       "      <td>2</td>\n",
       "    </tr>\n",
       "    <tr>\n",
       "      <th>4</th>\n",
       "      <td>Felipe Braule</td>\n",
       "      <td>Membro Normal</td>\n",
       "      <td>https://www.youtube.com/channel/UCJH3QNjQxlzlO...</td>\n",
       "      <td>2</td>\n",
       "    </tr>\n",
       "  </tbody>\n",
       "</table>\n",
       "</div>"
      ],
      "text/plain": [
       "                 Membros     Nível atual  \\\n",
       "0           Felipe Neves  Membro Premium   \n",
       "1         Flávio Barbosa  Membro Premium   \n",
       "2  Eduardo Spanemberg 96   Membro Normal   \n",
       "3           Felipe Alves   Membro Normal   \n",
       "4          Felipe Braule   Membro Normal   \n",
       "\n",
       "                                      Link do perfil  Order  \n",
       "0  https://www.youtube.com/channel/UCxM5VPQ4DFAec...      1  \n",
       "1  https://www.youtube.com/channel/UCKvdIc2e9KhHL...      1  \n",
       "2  https://www.youtube.com/channel/UCMK8N4Dm4FSg-...      2  \n",
       "3  https://www.youtube.com/channel/UCjQtafDeRJt3V...      2  \n",
       "4  https://www.youtube.com/channel/UCJH3QNjQxlzlO...      2  "
      ]
     },
     "execution_count": 11,
     "metadata": {},
     "output_type": "execute_result"
    }
   ],
   "source": [
    "tabela_membros_old = pd.read_csv(file_membros_old)\n",
    "tabela_membros_old = tabela_membros_old[['Membros', 'Nível atual', 'Link do perfil']]\n",
    "tabela_membros_old['Order'] = tabela_membros_old['Nível atual'].map(order_mapping)\n",
    "tabela_membros_old = tabela_membros_old.sort_values(by=['Order', 'Membros'], ascending=[True, True],\n",
    "                                           ignore_index=True)\n",
    "tabela_membros_old.head()"
   ]
  },
  {
   "cell_type": "code",
   "execution_count": 12,
   "id": "7e07b993",
   "metadata": {},
   "outputs": [
    {
     "data": {
      "text/plain": [
       "(41, 4)"
      ]
     },
     "execution_count": 12,
     "metadata": {},
     "output_type": "execute_result"
    }
   ],
   "source": [
    "tabela_membros_old.shape"
   ]
  },
  {
   "cell_type": "code",
   "execution_count": 13,
   "id": "37a86f8d",
   "metadata": {},
   "outputs": [],
   "source": [
    "nomes_ausentes = tabela_membros_old[~tabela_membros_old['Link do perfil'].isin(tabela_membros['Link do perfil'])]"
   ]
  },
  {
   "cell_type": "code",
   "execution_count": 14,
   "id": "b04ae605",
   "metadata": {},
   "outputs": [
    {
     "name": "stdout",
     "output_type": "stream",
     "text": [
      "             Membros Nível atual\n",
      "19     Allysson Davi  Lite Plus+\n",
      "34  Tio dos Sorvetes  Lite Plus+\n"
     ]
    }
   ],
   "source": [
    "print(nomes_ausentes[['Membros', 'Nível atual']])"
   ]
  },
  {
   "cell_type": "code",
   "execution_count": null,
   "id": "b9bc6924",
   "metadata": {},
   "outputs": [],
   "source": []
  },
  {
   "cell_type": "markdown",
   "id": "7ddefa99",
   "metadata": {},
   "source": [
    "#### Quem entrou no clube de membros"
   ]
  },
  {
   "cell_type": "code",
   "execution_count": 15,
   "id": "573dda56",
   "metadata": {},
   "outputs": [],
   "source": [
    "novos_membros = tabela_membros[~tabela_membros['Link do perfil'].isin(tabela_membros_old['Link do perfil'])]"
   ]
  },
  {
   "cell_type": "code",
   "execution_count": 16,
   "id": "60979e4b",
   "metadata": {},
   "outputs": [
    {
     "name": "stdout",
     "output_type": "stream",
     "text": [
      "          Membros    Nível atual\n",
      "2  Andrei Ribolis  Membro Normal\n",
      "4     Fabio Alves  Membro Normal\n"
     ]
    }
   ],
   "source": [
    "print(novos_membros[['Membros', 'Nível atual']])"
   ]
  },
  {
   "cell_type": "code",
   "execution_count": null,
   "id": "5456b4d1",
   "metadata": {},
   "outputs": [],
   "source": []
  },
  {
   "cell_type": "code",
   "execution_count": null,
   "id": "eb8aa45b",
   "metadata": {},
   "outputs": [],
   "source": []
  }
 ],
 "metadata": {
  "kernelspec": {
   "display_name": "Python 3 (ipykernel)",
   "language": "python",
   "name": "python3"
  },
  "language_info": {
   "codemirror_mode": {
    "name": "ipython",
    "version": 3
   },
   "file_extension": ".py",
   "mimetype": "text/x-python",
   "name": "python",
   "nbconvert_exporter": "python",
   "pygments_lexer": "ipython3",
   "version": "3.9.17"
  }
 },
 "nbformat": 4,
 "nbformat_minor": 5
}
