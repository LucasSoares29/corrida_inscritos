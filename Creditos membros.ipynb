{
 "cells": [
  {
   "cell_type": "code",
   "execution_count": 7,
   "id": "13a8a115",
   "metadata": {},
   "outputs": [],
   "source": [
    "import pandas as pd"
   ]
  },
  {
   "cell_type": "code",
   "execution_count": 8,
   "id": "6951f473",
   "metadata": {},
   "outputs": [],
   "source": [
    "file_membros = \"Y:/Your members Mar 16, 2025.csv\""
   ]
  },
  {
   "cell_type": "code",
   "execution_count": 9,
   "id": "b8aaa84b",
   "metadata": {},
   "outputs": [
    {
     "data": {
      "text/html": [
       "<div>\n",
       "<style scoped>\n",
       "    .dataframe tbody tr th:only-of-type {\n",
       "        vertical-align: middle;\n",
       "    }\n",
       "\n",
       "    .dataframe tbody tr th {\n",
       "        vertical-align: top;\n",
       "    }\n",
       "\n",
       "    .dataframe thead th {\n",
       "        text-align: right;\n",
       "    }\n",
       "</style>\n",
       "<table border=\"1\" class=\"dataframe\">\n",
       "  <thead>\n",
       "    <tr style=\"text-align: right;\">\n",
       "      <th></th>\n",
       "      <th>Membros</th>\n",
       "      <th>Nível atual</th>\n",
       "      <th>Link do perfil</th>\n",
       "    </tr>\n",
       "  </thead>\n",
       "  <tbody>\n",
       "    <tr>\n",
       "      <th>0</th>\n",
       "      <td>António Flores</td>\n",
       "      <td>Lite</td>\n",
       "      <td>https://www.youtube.com/channel/UCZ4hvpgKpMoFs...</td>\n",
       "    </tr>\n",
       "    <tr>\n",
       "      <th>1</th>\n",
       "      <td>Peraltando</td>\n",
       "      <td>Lite Plus+</td>\n",
       "      <td>https://www.youtube.com/channel/UCD7DbdP2usOhN...</td>\n",
       "    </tr>\n",
       "    <tr>\n",
       "      <th>2</th>\n",
       "      <td>aex sander</td>\n",
       "      <td>Lite</td>\n",
       "      <td>https://www.youtube.com/channel/UCRtFvv1ZltBLc...</td>\n",
       "    </tr>\n",
       "    <tr>\n",
       "      <th>3</th>\n",
       "      <td>A1ien0bserver</td>\n",
       "      <td>Lite Plus+</td>\n",
       "      <td>https://www.youtube.com/channel/UCaFq2vMqhHcVJ...</td>\n",
       "    </tr>\n",
       "    <tr>\n",
       "      <th>4</th>\n",
       "      <td>ramon felipe</td>\n",
       "      <td>Lite</td>\n",
       "      <td>https://www.youtube.com/channel/UCSbvJxeiBvks9...</td>\n",
       "    </tr>\n",
       "  </tbody>\n",
       "</table>\n",
       "</div>"
      ],
      "text/plain": [
       "          Membros Nível atual  \\\n",
       "0  António Flores        Lite   \n",
       "1      Peraltando  Lite Plus+   \n",
       "2      aex sander        Lite   \n",
       "3   A1ien0bserver  Lite Plus+   \n",
       "4    ramon felipe        Lite   \n",
       "\n",
       "                                      Link do perfil  \n",
       "0  https://www.youtube.com/channel/UCZ4hvpgKpMoFs...  \n",
       "1  https://www.youtube.com/channel/UCD7DbdP2usOhN...  \n",
       "2  https://www.youtube.com/channel/UCRtFvv1ZltBLc...  \n",
       "3  https://www.youtube.com/channel/UCaFq2vMqhHcVJ...  \n",
       "4  https://www.youtube.com/channel/UCSbvJxeiBvks9...  "
      ]
     },
     "execution_count": 9,
     "metadata": {},
     "output_type": "execute_result"
    }
   ],
   "source": [
    "tabela_membros = pd.read_csv(file_membros)\n",
    "if 'Member' in tabela_membros.columns:\n",
    "    tabela_membros = tabela_membros[['Member', 'Current level', 'Link to profile']]\n",
    "    tabela_membros = tabela_membros.rename(columns={\"Member\": \"Membros\", \n",
    "                           \"Link to profile\": \"Link do perfil\", \n",
    "                           \"Current level\": \"Nível atual\" })\n",
    "\n",
    "#tabela_membros = tabela_membros[['Membros', 'Nível atual', 'Link do perfil']]\n",
    "tabela_membros.head()"
   ]
  },
  {
   "cell_type": "code",
   "execution_count": 10,
   "id": "e891b528",
   "metadata": {},
   "outputs": [
    {
     "data": {
      "text/plain": [
       "False"
      ]
     },
     "execution_count": 10,
     "metadata": {},
     "output_type": "execute_result"
    }
   ],
   "source": [
    " 'Member' in tabela_membros.columns"
   ]
  },
  {
   "cell_type": "code",
   "execution_count": 11,
   "id": "62694b4a",
   "metadata": {},
   "outputs": [],
   "source": [
    "# Mapeamento para criar uma ordem personalizada\n",
    "order_mapping = {'Lite': 4, 'Lite Plus+': 3, 'Membro Normal': 2, 'Membro Premium': 1}"
   ]
  },
  {
   "cell_type": "code",
   "execution_count": 12,
   "id": "4a56e13c",
   "metadata": {},
   "outputs": [],
   "source": [
    "tabela_membros['Order'] = tabela_membros['Nível atual'].map(order_mapping)"
   ]
  },
  {
   "cell_type": "code",
   "execution_count": 13,
   "id": "bc5d51f9",
   "metadata": {},
   "outputs": [
    {
     "data": {
      "text/html": [
       "<div>\n",
       "<style scoped>\n",
       "    .dataframe tbody tr th:only-of-type {\n",
       "        vertical-align: middle;\n",
       "    }\n",
       "\n",
       "    .dataframe tbody tr th {\n",
       "        vertical-align: top;\n",
       "    }\n",
       "\n",
       "    .dataframe thead th {\n",
       "        text-align: right;\n",
       "    }\n",
       "</style>\n",
       "<table border=\"1\" class=\"dataframe\">\n",
       "  <thead>\n",
       "    <tr style=\"text-align: right;\">\n",
       "      <th></th>\n",
       "      <th>Membros</th>\n",
       "      <th>Nível atual</th>\n",
       "      <th>Link do perfil</th>\n",
       "      <th>Order</th>\n",
       "    </tr>\n",
       "  </thead>\n",
       "  <tbody>\n",
       "    <tr>\n",
       "      <th>0</th>\n",
       "      <td>António Flores</td>\n",
       "      <td>Lite</td>\n",
       "      <td>https://www.youtube.com/channel/UCZ4hvpgKpMoFs...</td>\n",
       "      <td>4</td>\n",
       "    </tr>\n",
       "    <tr>\n",
       "      <th>1</th>\n",
       "      <td>Peraltando</td>\n",
       "      <td>Lite Plus+</td>\n",
       "      <td>https://www.youtube.com/channel/UCD7DbdP2usOhN...</td>\n",
       "      <td>3</td>\n",
       "    </tr>\n",
       "    <tr>\n",
       "      <th>2</th>\n",
       "      <td>aex sander</td>\n",
       "      <td>Lite</td>\n",
       "      <td>https://www.youtube.com/channel/UCRtFvv1ZltBLc...</td>\n",
       "      <td>4</td>\n",
       "    </tr>\n",
       "    <tr>\n",
       "      <th>3</th>\n",
       "      <td>A1ien0bserver</td>\n",
       "      <td>Lite Plus+</td>\n",
       "      <td>https://www.youtube.com/channel/UCaFq2vMqhHcVJ...</td>\n",
       "      <td>3</td>\n",
       "    </tr>\n",
       "    <tr>\n",
       "      <th>4</th>\n",
       "      <td>ramon felipe</td>\n",
       "      <td>Lite</td>\n",
       "      <td>https://www.youtube.com/channel/UCSbvJxeiBvks9...</td>\n",
       "      <td>4</td>\n",
       "    </tr>\n",
       "  </tbody>\n",
       "</table>\n",
       "</div>"
      ],
      "text/plain": [
       "          Membros Nível atual  \\\n",
       "0  António Flores        Lite   \n",
       "1      Peraltando  Lite Plus+   \n",
       "2      aex sander        Lite   \n",
       "3   A1ien0bserver  Lite Plus+   \n",
       "4    ramon felipe        Lite   \n",
       "\n",
       "                                      Link do perfil  Order  \n",
       "0  https://www.youtube.com/channel/UCZ4hvpgKpMoFs...      4  \n",
       "1  https://www.youtube.com/channel/UCD7DbdP2usOhN...      3  \n",
       "2  https://www.youtube.com/channel/UCRtFvv1ZltBLc...      4  \n",
       "3  https://www.youtube.com/channel/UCaFq2vMqhHcVJ...      3  \n",
       "4  https://www.youtube.com/channel/UCSbvJxeiBvks9...      4  "
      ]
     },
     "execution_count": 13,
     "metadata": {},
     "output_type": "execute_result"
    }
   ],
   "source": [
    "tabela_membros.head()"
   ]
  },
  {
   "cell_type": "code",
   "execution_count": 14,
   "id": "d7558d7e",
   "metadata": {},
   "outputs": [
    {
     "data": {
      "text/plain": [
       "(28, 4)"
      ]
     },
     "execution_count": 14,
     "metadata": {},
     "output_type": "execute_result"
    }
   ],
   "source": [
    "tabela_membros.shape"
   ]
  },
  {
   "cell_type": "code",
   "execution_count": 15,
   "id": "1f117b02",
   "metadata": {},
   "outputs": [
    {
     "data": {
      "text/html": [
       "<div>\n",
       "<style scoped>\n",
       "    .dataframe tbody tr th:only-of-type {\n",
       "        vertical-align: middle;\n",
       "    }\n",
       "\n",
       "    .dataframe tbody tr th {\n",
       "        vertical-align: top;\n",
       "    }\n",
       "\n",
       "    .dataframe thead th {\n",
       "        text-align: right;\n",
       "    }\n",
       "</style>\n",
       "<table border=\"1\" class=\"dataframe\">\n",
       "  <thead>\n",
       "    <tr style=\"text-align: right;\">\n",
       "      <th></th>\n",
       "      <th>Membros</th>\n",
       "      <th>Nível atual</th>\n",
       "      <th>Link do perfil</th>\n",
       "      <th>Order</th>\n",
       "    </tr>\n",
       "  </thead>\n",
       "  <tbody>\n",
       "    <tr>\n",
       "      <th>0</th>\n",
       "      <td>Felipe Neves</td>\n",
       "      <td>Membro Premium</td>\n",
       "      <td>https://www.youtube.com/channel/UCxM5VPQ4DFAec...</td>\n",
       "      <td>1</td>\n",
       "    </tr>\n",
       "    <tr>\n",
       "      <th>1</th>\n",
       "      <td>Flávio Barbosa</td>\n",
       "      <td>Membro Premium</td>\n",
       "      <td>https://www.youtube.com/channel/UCKvdIc2e9KhHL...</td>\n",
       "      <td>1</td>\n",
       "    </tr>\n",
       "    <tr>\n",
       "      <th>2</th>\n",
       "      <td>Dragoonie Skywere</td>\n",
       "      <td>Membro Normal</td>\n",
       "      <td>https://www.youtube.com/channel/UCGcbh6slTDrmc...</td>\n",
       "      <td>2</td>\n",
       "    </tr>\n",
       "    <tr>\n",
       "      <th>3</th>\n",
       "      <td>Felipe Alves</td>\n",
       "      <td>Membro Normal</td>\n",
       "      <td>https://www.youtube.com/channel/UCjQtafDeRJt3V...</td>\n",
       "      <td>2</td>\n",
       "    </tr>\n",
       "    <tr>\n",
       "      <th>4</th>\n",
       "      <td>Frt Lil Vierrá</td>\n",
       "      <td>Membro Normal</td>\n",
       "      <td>https://www.youtube.com/channel/UC4NEGtxLNdxxj...</td>\n",
       "      <td>2</td>\n",
       "    </tr>\n",
       "  </tbody>\n",
       "</table>\n",
       "</div>"
      ],
      "text/plain": [
       "             Membros     Nível atual  \\\n",
       "0       Felipe Neves  Membro Premium   \n",
       "1     Flávio Barbosa  Membro Premium   \n",
       "2  Dragoonie Skywere   Membro Normal   \n",
       "3       Felipe Alves   Membro Normal   \n",
       "4     Frt Lil Vierrá   Membro Normal   \n",
       "\n",
       "                                      Link do perfil  Order  \n",
       "0  https://www.youtube.com/channel/UCxM5VPQ4DFAec...      1  \n",
       "1  https://www.youtube.com/channel/UCKvdIc2e9KhHL...      1  \n",
       "2  https://www.youtube.com/channel/UCGcbh6slTDrmc...      2  \n",
       "3  https://www.youtube.com/channel/UCjQtafDeRJt3V...      2  \n",
       "4  https://www.youtube.com/channel/UC4NEGtxLNdxxj...      2  "
      ]
     },
     "execution_count": 15,
     "metadata": {},
     "output_type": "execute_result"
    }
   ],
   "source": [
    "tabela_membros = tabela_membros.sort_values(by=['Order', 'Membros'], ascending=[True, True],\n",
    "                                           ignore_index=True)\n",
    "tabela_membros.head()"
   ]
  },
  {
   "cell_type": "code",
   "execution_count": 16,
   "id": "2793e7d3",
   "metadata": {},
   "outputs": [
    {
     "name": "stdout",
     "output_type": "stream",
     "text": [
      "Arquivo dos membros gerado com sucesso\n"
     ]
    }
   ],
   "source": [
    "with open('Y:/membros.txt', 'w', encoding='utf-8') as file:\n",
    "\n",
    "    membro_premium = tabela_membros[tabela_membros['Nível atual'] == 'Membro Premium']['Membros'].tolist()\n",
    "    membro_normal = tabela_membros[tabela_membros['Nível atual'] == 'Membro Normal']['Membros'].tolist()\n",
    "    membro_lite_plus = tabela_membros[tabela_membros['Nível atual'] == 'Lite Plus+']['Membros'].tolist()\n",
    "    membro_lite = tabela_membros[tabela_membros['Nível atual'] == 'Lite']['Membros'].tolist()\n",
    "    \n",
    "    file.write(\"Membros Premium:\\n\")\n",
    "    for membro in membro_premium:\n",
    "        file.write(f\"{membro}\\n\")\n",
    "        \n",
    "    file.write(\"\\nMembros Normal:\\n\")\n",
    "    for membro in membro_normal:\n",
    "        file.write(f\"{membro}\\n\")\n",
    "        \n",
    "    file.write(\"\\nMembros Lite Plus+:\\n\")\n",
    "    for membro in membro_lite_plus:\n",
    "        file.write(f\"{membro}\\n\")\n",
    "        \n",
    "    file.write(\"\\nMembros Lite:\\n\")\n",
    "    for membro in membro_lite:\n",
    "        file.write(f\"{membro}\\n\")\n",
    "        \n",
    "print(\"Arquivo dos membros gerado com sucesso\")"
   ]
  },
  {
   "cell_type": "code",
   "execution_count": null,
   "id": "50a3c27a",
   "metadata": {},
   "outputs": [],
   "source": []
  },
  {
   "cell_type": "markdown",
   "id": "03e975f5",
   "metadata": {},
   "source": [
    "#### Quem deixou o clube de membros"
   ]
  },
  {
   "cell_type": "code",
   "execution_count": 17,
   "id": "7ab4800f",
   "metadata": {},
   "outputs": [],
   "source": [
    "file_membros_old =  \"Y:/Your members Feb 27, 2025.csv\""
   ]
  },
  {
   "cell_type": "code",
   "execution_count": 18,
   "id": "46db2924",
   "metadata": {},
   "outputs": [
    {
     "data": {
      "text/html": [
       "<div>\n",
       "<style scoped>\n",
       "    .dataframe tbody tr th:only-of-type {\n",
       "        vertical-align: middle;\n",
       "    }\n",
       "\n",
       "    .dataframe tbody tr th {\n",
       "        vertical-align: top;\n",
       "    }\n",
       "\n",
       "    .dataframe thead th {\n",
       "        text-align: right;\n",
       "    }\n",
       "</style>\n",
       "<table border=\"1\" class=\"dataframe\">\n",
       "  <thead>\n",
       "    <tr style=\"text-align: right;\">\n",
       "      <th></th>\n",
       "      <th>Member</th>\n",
       "      <th>Link to profile</th>\n",
       "      <th>Current level</th>\n",
       "      <th>Total time on level (months)</th>\n",
       "      <th>Total time as member (months)</th>\n",
       "      <th>Last update</th>\n",
       "      <th>Last update timestamp</th>\n",
       "    </tr>\n",
       "  </thead>\n",
       "  <tbody>\n",
       "    <tr>\n",
       "      <th>0</th>\n",
       "      <td>ramon felipe</td>\n",
       "      <td>https://www.youtube.com/channel/UCSbvJxeiBvks9...</td>\n",
       "      <td>Lite</td>\n",
       "      <td>1.21429</td>\n",
       "      <td>1.21429</td>\n",
       "      <td>Re-joined</td>\n",
       "      <td>2025-02-21T14:52:25.016-08:00</td>\n",
       "    </tr>\n",
       "    <tr>\n",
       "      <th>1</th>\n",
       "      <td>aex sander</td>\n",
       "      <td>https://www.youtube.com/channel/UCRtFvv1ZltBLc...</td>\n",
       "      <td>Lite</td>\n",
       "      <td>3.96429</td>\n",
       "      <td>3.96429</td>\n",
       "      <td>Re-joined</td>\n",
       "      <td>2025-01-31T01:16:09.409-08:00</td>\n",
       "    </tr>\n",
       "    <tr>\n",
       "      <th>2</th>\n",
       "      <td>Billbinho</td>\n",
       "      <td>https://www.youtube.com/channel/UCJZ72iJ6K1lOW...</td>\n",
       "      <td>Lite</td>\n",
       "      <td>22.03570</td>\n",
       "      <td>22.03570</td>\n",
       "      <td>Re-joined</td>\n",
       "      <td>2025-01-26T06:24:56.215-08:00</td>\n",
       "    </tr>\n",
       "    <tr>\n",
       "      <th>3</th>\n",
       "      <td>PabloDaniel1992</td>\n",
       "      <td>https://www.youtube.com/channel/UC0e3vX8PkyBj0...</td>\n",
       "      <td>Lite Plus+</td>\n",
       "      <td>3.03571</td>\n",
       "      <td>7.19700</td>\n",
       "      <td>Re-joined</td>\n",
       "      <td>2025-01-26T01:59:08.605-08:00</td>\n",
       "    </tr>\n",
       "    <tr>\n",
       "      <th>4</th>\n",
       "      <td>Júlio César de Oliveira</td>\n",
       "      <td>https://www.youtube.com/channel/UCeLsr6mzZPLpk...</td>\n",
       "      <td>Membro Normal</td>\n",
       "      <td>8.07143</td>\n",
       "      <td>8.07143</td>\n",
       "      <td>Re-joined</td>\n",
       "      <td>2025-01-25T11:25:36.769-08:00</td>\n",
       "    </tr>\n",
       "  </tbody>\n",
       "</table>\n",
       "</div>"
      ],
      "text/plain": [
       "                    Member                                    Link to profile  \\\n",
       "0             ramon felipe  https://www.youtube.com/channel/UCSbvJxeiBvks9...   \n",
       "1               aex sander  https://www.youtube.com/channel/UCRtFvv1ZltBLc...   \n",
       "2                Billbinho  https://www.youtube.com/channel/UCJZ72iJ6K1lOW...   \n",
       "3          PabloDaniel1992  https://www.youtube.com/channel/UC0e3vX8PkyBj0...   \n",
       "4  Júlio César de Oliveira  https://www.youtube.com/channel/UCeLsr6mzZPLpk...   \n",
       "\n",
       "   Current level  Total time on level (months)  Total time as member (months)  \\\n",
       "0           Lite                       1.21429                        1.21429   \n",
       "1           Lite                       3.96429                        3.96429   \n",
       "2           Lite                      22.03570                       22.03570   \n",
       "3     Lite Plus+                       3.03571                        7.19700   \n",
       "4  Membro Normal                       8.07143                        8.07143   \n",
       "\n",
       "  Last update          Last update timestamp  \n",
       "0   Re-joined  2025-02-21T14:52:25.016-08:00  \n",
       "1   Re-joined  2025-01-31T01:16:09.409-08:00  \n",
       "2   Re-joined  2025-01-26T06:24:56.215-08:00  \n",
       "3   Re-joined  2025-01-26T01:59:08.605-08:00  \n",
       "4   Re-joined  2025-01-25T11:25:36.769-08:00  "
      ]
     },
     "execution_count": 18,
     "metadata": {},
     "output_type": "execute_result"
    }
   ],
   "source": [
    "tabela_membros_old = pd.read_csv(file_membros_old)\n",
    "tabela_membros_old.head()"
   ]
  },
  {
   "cell_type": "code",
   "execution_count": 19,
   "id": "6f34e57b",
   "metadata": {},
   "outputs": [
    {
     "data": {
      "text/html": [
       "<div>\n",
       "<style scoped>\n",
       "    .dataframe tbody tr th:only-of-type {\n",
       "        vertical-align: middle;\n",
       "    }\n",
       "\n",
       "    .dataframe tbody tr th {\n",
       "        vertical-align: top;\n",
       "    }\n",
       "\n",
       "    .dataframe thead th {\n",
       "        text-align: right;\n",
       "    }\n",
       "</style>\n",
       "<table border=\"1\" class=\"dataframe\">\n",
       "  <thead>\n",
       "    <tr style=\"text-align: right;\">\n",
       "      <th></th>\n",
       "      <th>Membros</th>\n",
       "      <th>Nível atual</th>\n",
       "      <th>Link do perfil</th>\n",
       "      <th>Order</th>\n",
       "    </tr>\n",
       "  </thead>\n",
       "  <tbody>\n",
       "    <tr>\n",
       "      <th>0</th>\n",
       "      <td>Felipe Neves</td>\n",
       "      <td>Membro Premium</td>\n",
       "      <td>https://www.youtube.com/channel/UCxM5VPQ4DFAec...</td>\n",
       "      <td>1</td>\n",
       "    </tr>\n",
       "    <tr>\n",
       "      <th>1</th>\n",
       "      <td>Flávio Barbosa</td>\n",
       "      <td>Membro Premium</td>\n",
       "      <td>https://www.youtube.com/channel/UCKvdIc2e9KhHL...</td>\n",
       "      <td>1</td>\n",
       "    </tr>\n",
       "    <tr>\n",
       "      <th>2</th>\n",
       "      <td>Dragoonie Skywere</td>\n",
       "      <td>Membro Normal</td>\n",
       "      <td>https://www.youtube.com/channel/UCGcbh6slTDrmc...</td>\n",
       "      <td>2</td>\n",
       "    </tr>\n",
       "    <tr>\n",
       "      <th>3</th>\n",
       "      <td>Felipe Alves</td>\n",
       "      <td>Membro Normal</td>\n",
       "      <td>https://www.youtube.com/channel/UCjQtafDeRJt3V...</td>\n",
       "      <td>2</td>\n",
       "    </tr>\n",
       "    <tr>\n",
       "      <th>4</th>\n",
       "      <td>Frt Lil Vierrá</td>\n",
       "      <td>Membro Normal</td>\n",
       "      <td>https://www.youtube.com/channel/UC4NEGtxLNdxxj...</td>\n",
       "      <td>2</td>\n",
       "    </tr>\n",
       "  </tbody>\n",
       "</table>\n",
       "</div>"
      ],
      "text/plain": [
       "             Membros     Nível atual  \\\n",
       "0       Felipe Neves  Membro Premium   \n",
       "1     Flávio Barbosa  Membro Premium   \n",
       "2  Dragoonie Skywere   Membro Normal   \n",
       "3       Felipe Alves   Membro Normal   \n",
       "4     Frt Lil Vierrá   Membro Normal   \n",
       "\n",
       "                                      Link do perfil  Order  \n",
       "0  https://www.youtube.com/channel/UCxM5VPQ4DFAec...      1  \n",
       "1  https://www.youtube.com/channel/UCKvdIc2e9KhHL...      1  \n",
       "2  https://www.youtube.com/channel/UCGcbh6slTDrmc...      2  \n",
       "3  https://www.youtube.com/channel/UCjQtafDeRJt3V...      2  \n",
       "4  https://www.youtube.com/channel/UC4NEGtxLNdxxj...      2  "
      ]
     },
     "execution_count": 19,
     "metadata": {},
     "output_type": "execute_result"
    }
   ],
   "source": [
    "if 'Member' in tabela_membros_old.columns:\n",
    "    tabela_membros_old.rename(columns={\"Member\": \"Membros\", \n",
    "                           \"Link to profile\": \"Link do perfil\", \n",
    "                           \"Current level\": \"Nível atual\" }, inplace=True)\n",
    "    \n",
    "tabela_membros_old = tabela_membros_old[['Membros', 'Nível atual', 'Link do perfil']]\n",
    "tabela_membros_old['Order'] = tabela_membros_old['Nível atual'].map(order_mapping)\n",
    "tabela_membros_old = tabela_membros_old.sort_values(by=['Order', 'Membros'], ascending=[True, True],\n",
    "                                           ignore_index=True)\n",
    "tabela_membros_old.head()"
   ]
  },
  {
   "cell_type": "code",
   "execution_count": 20,
   "id": "7e07b993",
   "metadata": {},
   "outputs": [
    {
     "data": {
      "text/plain": [
       "(28, 4)"
      ]
     },
     "execution_count": 20,
     "metadata": {},
     "output_type": "execute_result"
    }
   ],
   "source": [
    "tabela_membros_old.shape"
   ]
  },
  {
   "cell_type": "code",
   "execution_count": 21,
   "id": "37a86f8d",
   "metadata": {},
   "outputs": [],
   "source": [
    "nomes_ausentes = tabela_membros_old[~tabela_membros_old['Link do perfil'].isin(tabela_membros['Link do perfil'])]"
   ]
  },
  {
   "cell_type": "code",
   "execution_count": 22,
   "id": "b04ae605",
   "metadata": {},
   "outputs": [
    {
     "name": "stdout",
     "output_type": "stream",
     "text": [
      "            Membros    Nível atual\n",
      "12     Paulo Fabian  Membro Normal\n",
      "13      Savio alves  Membro Normal\n",
      "14  AndreMalmsteen      Lite Plus+\n"
     ]
    }
   ],
   "source": [
    "print(nomes_ausentes[['Membros', 'Nível atual']])"
   ]
  },
  {
   "cell_type": "code",
   "execution_count": null,
   "id": "b9bc6924",
   "metadata": {},
   "outputs": [],
   "source": []
  },
  {
   "cell_type": "markdown",
   "id": "7ddefa99",
   "metadata": {},
   "source": [
    "#### Quem entrou no clube de membros"
   ]
  },
  {
   "cell_type": "code",
   "execution_count": 17,
   "id": "573dda56",
   "metadata": {},
   "outputs": [],
   "source": [
    "novos_membros = tabela_membros[~tabela_membros['Link do perfil'].isin(tabela_membros_old['Link do perfil'])]"
   ]
  },
  {
   "cell_type": "code",
   "execution_count": 18,
   "id": "60979e4b",
   "metadata": {},
   "outputs": [
    {
     "name": "stdout",
     "output_type": "stream",
     "text": [
      "                Membros    Nível atual\n",
      "3   Eletronik Gameplays  Membro Normal\n",
      "11            Maikonnil  Membro Normal\n",
      "23      PabloDaniel1992     Lite Plus+\n",
      "24            Pedrokkkj     Lite Plus+\n",
      "34         ramon felipe           Lite\n"
     ]
    }
   ],
   "source": [
    "print(novos_membros[['Membros', 'Nível atual']])"
   ]
  },
  {
   "cell_type": "code",
   "execution_count": null,
   "id": "5456b4d1",
   "metadata": {},
   "outputs": [],
   "source": []
  },
  {
   "cell_type": "code",
   "execution_count": null,
   "id": "eb8aa45b",
   "metadata": {},
   "outputs": [],
   "source": []
  }
 ],
 "metadata": {
  "kernelspec": {
   "display_name": "Python 3 (ipykernel)",
   "language": "python",
   "name": "python3"
  },
  "language_info": {
   "codemirror_mode": {
    "name": "ipython",
    "version": 3
   },
   "file_extension": ".py",
   "mimetype": "text/x-python",
   "name": "python",
   "nbconvert_exporter": "python",
   "pygments_lexer": "ipython3",
   "version": "3.9.17"
  }
 },
 "nbformat": 4,
 "nbformat_minor": 5
}
