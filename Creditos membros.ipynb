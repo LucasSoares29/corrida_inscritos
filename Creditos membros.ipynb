{
 "cells": [
  {
   "cell_type": "code",
   "execution_count": 1,
   "id": "13a8a115",
   "metadata": {},
   "outputs": [],
   "source": [
    "import pandas as pd"
   ]
  },
  {
   "cell_type": "code",
   "execution_count": 24,
   "id": "6951f473",
   "metadata": {},
   "outputs": [],
   "source": [
    "file_membros = \"Y:/Your members Oct 19, 2024.csv\""
   ]
  },
  {
   "cell_type": "code",
   "execution_count": 27,
   "id": "b8aaa84b",
   "metadata": {},
   "outputs": [
    {
     "data": {
      "text/html": [
       "<div>\n",
       "<style scoped>\n",
       "    .dataframe tbody tr th:only-of-type {\n",
       "        vertical-align: middle;\n",
       "    }\n",
       "\n",
       "    .dataframe tbody tr th {\n",
       "        vertical-align: top;\n",
       "    }\n",
       "\n",
       "    .dataframe thead th {\n",
       "        text-align: right;\n",
       "    }\n",
       "</style>\n",
       "<table border=\"1\" class=\"dataframe\">\n",
       "  <thead>\n",
       "    <tr style=\"text-align: right;\">\n",
       "      <th></th>\n",
       "      <th>Membros</th>\n",
       "      <th>Nível atual</th>\n",
       "      <th>Link do perfil</th>\n",
       "    </tr>\n",
       "  </thead>\n",
       "  <tbody>\n",
       "    <tr>\n",
       "      <th>0</th>\n",
       "      <td>TheFireKing</td>\n",
       "      <td>Membro Normal</td>\n",
       "      <td>https://www.youtube.com/channel/UCEMrPWPGWQeTP...</td>\n",
       "    </tr>\n",
       "    <tr>\n",
       "      <th>1</th>\n",
       "      <td>Victor lima</td>\n",
       "      <td>Lite</td>\n",
       "      <td>https://www.youtube.com/channel/UCS-5XvTo-4__2...</td>\n",
       "    </tr>\n",
       "    <tr>\n",
       "      <th>2</th>\n",
       "      <td>Lucas Ferreira</td>\n",
       "      <td>Membro Normal</td>\n",
       "      <td>https://www.youtube.com/channel/UCEAokGAUlFts9...</td>\n",
       "    </tr>\n",
       "    <tr>\n",
       "      <th>3</th>\n",
       "      <td>sKuro💫</td>\n",
       "      <td>Lite Plus+</td>\n",
       "      <td>https://www.youtube.com/channel/UC-Idu6S5-gOgW...</td>\n",
       "    </tr>\n",
       "    <tr>\n",
       "      <th>4</th>\n",
       "      <td>Ivens Cardoso</td>\n",
       "      <td>Membro Normal</td>\n",
       "      <td>https://www.youtube.com/channel/UC9CmhZ2L8oh-P...</td>\n",
       "    </tr>\n",
       "  </tbody>\n",
       "</table>\n",
       "</div>"
      ],
      "text/plain": [
       "          Membros    Nível atual  \\\n",
       "0     TheFireKing  Membro Normal   \n",
       "1     Victor lima           Lite   \n",
       "2  Lucas Ferreira  Membro Normal   \n",
       "3          sKuro💫     Lite Plus+   \n",
       "4   Ivens Cardoso  Membro Normal   \n",
       "\n",
       "                                      Link do perfil  \n",
       "0  https://www.youtube.com/channel/UCEMrPWPGWQeTP...  \n",
       "1  https://www.youtube.com/channel/UCS-5XvTo-4__2...  \n",
       "2  https://www.youtube.com/channel/UCEAokGAUlFts9...  \n",
       "3  https://www.youtube.com/channel/UC-Idu6S5-gOgW...  \n",
       "4  https://www.youtube.com/channel/UC9CmhZ2L8oh-P...  "
      ]
     },
     "execution_count": 27,
     "metadata": {},
     "output_type": "execute_result"
    }
   ],
   "source": [
    "tabela_membros = pd.read_csv(file_membros)\n",
    "if 'Member' in tabela_membros.columns:\n",
    "    tabela_membros = tabela_membros[['Member', 'Current level', 'Link to profile']]\n",
    "    tabela_membros = tabela_membros.rename(columns={\"Member\": \"Membros\", \n",
    "                           \"Link to profile\": \"Link do perfil\", \n",
    "                           \"Current level\": \"Nível atual\" })\n",
    "\n",
    "#tabela_membros = tabela_membros[['Membros', 'Nível atual', 'Link do perfil']]\n",
    "tabela_membros.head()"
   ]
  },
  {
   "cell_type": "code",
   "execution_count": 28,
   "id": "e891b528",
   "metadata": {},
   "outputs": [
    {
     "data": {
      "text/plain": [
       "False"
      ]
     },
     "execution_count": 28,
     "metadata": {},
     "output_type": "execute_result"
    }
   ],
   "source": [
    " 'Member' in tabela_membros.columns"
   ]
  },
  {
   "cell_type": "code",
   "execution_count": 29,
   "id": "62694b4a",
   "metadata": {},
   "outputs": [],
   "source": [
    "# Mapeamento para criar uma ordem personalizada\n",
    "order_mapping = {'Lite': 4, 'Lite Plus+': 3, 'Membro Normal': 2, 'Membro Premium': 1}"
   ]
  },
  {
   "cell_type": "code",
   "execution_count": 30,
   "id": "4a56e13c",
   "metadata": {},
   "outputs": [],
   "source": [
    "tabela_membros['Order'] = tabela_membros['Nível atual'].map(order_mapping)"
   ]
  },
  {
   "cell_type": "code",
   "execution_count": 31,
   "id": "bc5d51f9",
   "metadata": {},
   "outputs": [
    {
     "data": {
      "text/html": [
       "<div>\n",
       "<style scoped>\n",
       "    .dataframe tbody tr th:only-of-type {\n",
       "        vertical-align: middle;\n",
       "    }\n",
       "\n",
       "    .dataframe tbody tr th {\n",
       "        vertical-align: top;\n",
       "    }\n",
       "\n",
       "    .dataframe thead th {\n",
       "        text-align: right;\n",
       "    }\n",
       "</style>\n",
       "<table border=\"1\" class=\"dataframe\">\n",
       "  <thead>\n",
       "    <tr style=\"text-align: right;\">\n",
       "      <th></th>\n",
       "      <th>Membros</th>\n",
       "      <th>Nível atual</th>\n",
       "      <th>Link do perfil</th>\n",
       "      <th>Order</th>\n",
       "    </tr>\n",
       "  </thead>\n",
       "  <tbody>\n",
       "    <tr>\n",
       "      <th>0</th>\n",
       "      <td>TheFireKing</td>\n",
       "      <td>Membro Normal</td>\n",
       "      <td>https://www.youtube.com/channel/UCEMrPWPGWQeTP...</td>\n",
       "      <td>2</td>\n",
       "    </tr>\n",
       "    <tr>\n",
       "      <th>1</th>\n",
       "      <td>Victor lima</td>\n",
       "      <td>Lite</td>\n",
       "      <td>https://www.youtube.com/channel/UCS-5XvTo-4__2...</td>\n",
       "      <td>4</td>\n",
       "    </tr>\n",
       "    <tr>\n",
       "      <th>2</th>\n",
       "      <td>Lucas Ferreira</td>\n",
       "      <td>Membro Normal</td>\n",
       "      <td>https://www.youtube.com/channel/UCEAokGAUlFts9...</td>\n",
       "      <td>2</td>\n",
       "    </tr>\n",
       "    <tr>\n",
       "      <th>3</th>\n",
       "      <td>sKuro💫</td>\n",
       "      <td>Lite Plus+</td>\n",
       "      <td>https://www.youtube.com/channel/UC-Idu6S5-gOgW...</td>\n",
       "      <td>3</td>\n",
       "    </tr>\n",
       "    <tr>\n",
       "      <th>4</th>\n",
       "      <td>Ivens Cardoso</td>\n",
       "      <td>Membro Normal</td>\n",
       "      <td>https://www.youtube.com/channel/UC9CmhZ2L8oh-P...</td>\n",
       "      <td>2</td>\n",
       "    </tr>\n",
       "  </tbody>\n",
       "</table>\n",
       "</div>"
      ],
      "text/plain": [
       "          Membros    Nível atual  \\\n",
       "0     TheFireKing  Membro Normal   \n",
       "1     Victor lima           Lite   \n",
       "2  Lucas Ferreira  Membro Normal   \n",
       "3          sKuro💫     Lite Plus+   \n",
       "4   Ivens Cardoso  Membro Normal   \n",
       "\n",
       "                                      Link do perfil  Order  \n",
       "0  https://www.youtube.com/channel/UCEMrPWPGWQeTP...      2  \n",
       "1  https://www.youtube.com/channel/UCS-5XvTo-4__2...      4  \n",
       "2  https://www.youtube.com/channel/UCEAokGAUlFts9...      2  \n",
       "3  https://www.youtube.com/channel/UC-Idu6S5-gOgW...      3  \n",
       "4  https://www.youtube.com/channel/UC9CmhZ2L8oh-P...      2  "
      ]
     },
     "execution_count": 31,
     "metadata": {},
     "output_type": "execute_result"
    }
   ],
   "source": [
    "tabela_membros.head()"
   ]
  },
  {
   "cell_type": "code",
   "execution_count": 32,
   "id": "d7558d7e",
   "metadata": {},
   "outputs": [
    {
     "data": {
      "text/plain": [
       "(36, 4)"
      ]
     },
     "execution_count": 32,
     "metadata": {},
     "output_type": "execute_result"
    }
   ],
   "source": [
    "tabela_membros.shape"
   ]
  },
  {
   "cell_type": "code",
   "execution_count": 33,
   "id": "1f117b02",
   "metadata": {},
   "outputs": [
    {
     "data": {
      "text/html": [
       "<div>\n",
       "<style scoped>\n",
       "    .dataframe tbody tr th:only-of-type {\n",
       "        vertical-align: middle;\n",
       "    }\n",
       "\n",
       "    .dataframe tbody tr th {\n",
       "        vertical-align: top;\n",
       "    }\n",
       "\n",
       "    .dataframe thead th {\n",
       "        text-align: right;\n",
       "    }\n",
       "</style>\n",
       "<table border=\"1\" class=\"dataframe\">\n",
       "  <thead>\n",
       "    <tr style=\"text-align: right;\">\n",
       "      <th></th>\n",
       "      <th>Membros</th>\n",
       "      <th>Nível atual</th>\n",
       "      <th>Link do perfil</th>\n",
       "      <th>Order</th>\n",
       "    </tr>\n",
       "  </thead>\n",
       "  <tbody>\n",
       "    <tr>\n",
       "      <th>0</th>\n",
       "      <td>Felipe Neves</td>\n",
       "      <td>Membro Premium</td>\n",
       "      <td>https://www.youtube.com/channel/UCxM5VPQ4DFAec...</td>\n",
       "      <td>1</td>\n",
       "    </tr>\n",
       "    <tr>\n",
       "      <th>1</th>\n",
       "      <td>Flávio Barbosa</td>\n",
       "      <td>Membro Premium</td>\n",
       "      <td>https://www.youtube.com/channel/UCKvdIc2e9KhHL...</td>\n",
       "      <td>1</td>\n",
       "    </tr>\n",
       "    <tr>\n",
       "      <th>2</th>\n",
       "      <td>Asas da Estrada</td>\n",
       "      <td>Membro Normal</td>\n",
       "      <td>https://www.youtube.com/channel/UCHypoo4Hbjapk...</td>\n",
       "      <td>2</td>\n",
       "    </tr>\n",
       "    <tr>\n",
       "      <th>3</th>\n",
       "      <td>Eletronik Gameplays</td>\n",
       "      <td>Membro Normal</td>\n",
       "      <td>https://www.youtube.com/channel/UCGcbh6slTDrmc...</td>\n",
       "      <td>2</td>\n",
       "    </tr>\n",
       "    <tr>\n",
       "      <th>4</th>\n",
       "      <td>Felipe Alves</td>\n",
       "      <td>Membro Normal</td>\n",
       "      <td>https://www.youtube.com/channel/UCjQtafDeRJt3V...</td>\n",
       "      <td>2</td>\n",
       "    </tr>\n",
       "  </tbody>\n",
       "</table>\n",
       "</div>"
      ],
      "text/plain": [
       "               Membros     Nível atual  \\\n",
       "0         Felipe Neves  Membro Premium   \n",
       "1       Flávio Barbosa  Membro Premium   \n",
       "2      Asas da Estrada   Membro Normal   \n",
       "3  Eletronik Gameplays   Membro Normal   \n",
       "4         Felipe Alves   Membro Normal   \n",
       "\n",
       "                                      Link do perfil  Order  \n",
       "0  https://www.youtube.com/channel/UCxM5VPQ4DFAec...      1  \n",
       "1  https://www.youtube.com/channel/UCKvdIc2e9KhHL...      1  \n",
       "2  https://www.youtube.com/channel/UCHypoo4Hbjapk...      2  \n",
       "3  https://www.youtube.com/channel/UCGcbh6slTDrmc...      2  \n",
       "4  https://www.youtube.com/channel/UCjQtafDeRJt3V...      2  "
      ]
     },
     "execution_count": 33,
     "metadata": {},
     "output_type": "execute_result"
    }
   ],
   "source": [
    "tabela_membros = tabela_membros.sort_values(by=['Order', 'Membros'], ascending=[True, True],\n",
    "                                           ignore_index=True)\n",
    "tabela_membros.head()"
   ]
  },
  {
   "cell_type": "code",
   "execution_count": 34,
   "id": "2793e7d3",
   "metadata": {},
   "outputs": [
    {
     "name": "stdout",
     "output_type": "stream",
     "text": [
      "Arquivo dos membros gerado com sucesso\n"
     ]
    }
   ],
   "source": [
    "with open('Y:/membros.txt', 'w', encoding='utf-8') as file:\n",
    "\n",
    "    membro_premium = tabela_membros[tabela_membros['Nível atual'] == 'Membro Premium']['Membros'].tolist()\n",
    "    membro_normal = tabela_membros[tabela_membros['Nível atual'] == 'Membro Normal']['Membros'].tolist()\n",
    "    membro_lite_plus = tabela_membros[tabela_membros['Nível atual'] == 'Lite Plus+']['Membros'].tolist()\n",
    "    membro_lite = tabela_membros[tabela_membros['Nível atual'] == 'Lite']['Membros'].tolist()\n",
    "    \n",
    "    file.write(\"Membros Premium:\\n\")\n",
    "    for membro in membro_premium:\n",
    "        file.write(f\"{membro}\\n\")\n",
    "        \n",
    "    file.write(\"\\nMembros Normal:\\n\")\n",
    "    for membro in membro_normal:\n",
    "        file.write(f\"{membro}\\n\")\n",
    "        \n",
    "    file.write(\"\\nMembros Lite Plus+:\\n\")\n",
    "    for membro in membro_lite_plus:\n",
    "        file.write(f\"{membro}\\n\")\n",
    "        \n",
    "    file.write(\"\\nMembros Lite:\\n\")\n",
    "    for membro in membro_lite:\n",
    "        file.write(f\"{membro}\\n\")\n",
    "        \n",
    "print(\"Arquivo dos membros gerado com sucesso\")"
   ]
  },
  {
   "cell_type": "code",
   "execution_count": null,
   "id": "50a3c27a",
   "metadata": {},
   "outputs": [],
   "source": []
  },
  {
   "cell_type": "markdown",
   "id": "03e975f5",
   "metadata": {},
   "source": [
    "#### Quem deixou o clube de membros"
   ]
  },
  {
   "cell_type": "code",
   "execution_count": 35,
   "id": "7ab4800f",
   "metadata": {},
   "outputs": [],
   "source": [
    "file_membros_old =  \"Y:/Your members Oct 03, 2024.csv\""
   ]
  },
  {
   "cell_type": "code",
   "execution_count": 36,
   "id": "46db2924",
   "metadata": {},
   "outputs": [
    {
     "data": {
      "text/html": [
       "<div>\n",
       "<style scoped>\n",
       "    .dataframe tbody tr th:only-of-type {\n",
       "        vertical-align: middle;\n",
       "    }\n",
       "\n",
       "    .dataframe tbody tr th {\n",
       "        vertical-align: top;\n",
       "    }\n",
       "\n",
       "    .dataframe thead th {\n",
       "        text-align: right;\n",
       "    }\n",
       "</style>\n",
       "<table border=\"1\" class=\"dataframe\">\n",
       "  <thead>\n",
       "    <tr style=\"text-align: right;\">\n",
       "      <th></th>\n",
       "      <th>Member</th>\n",
       "      <th>Link to profile</th>\n",
       "      <th>Current level</th>\n",
       "      <th>Total time on level (months)</th>\n",
       "      <th>Total time as member (months)</th>\n",
       "      <th>Last update</th>\n",
       "      <th>Last update timestamp</th>\n",
       "    </tr>\n",
       "  </thead>\n",
       "  <tbody>\n",
       "    <tr>\n",
       "      <th>0</th>\n",
       "      <td>Ivens Cardoso</td>\n",
       "      <td>https://www.youtube.com/channel/UC9CmhZ2L8oh-P...</td>\n",
       "      <td>Membro Normal</td>\n",
       "      <td>27.977400</td>\n",
       "      <td>51.300000</td>\n",
       "      <td>Re-joined</td>\n",
       "      <td>2024-10-03T05:02:56.298-07:00</td>\n",
       "    </tr>\n",
       "    <tr>\n",
       "      <th>1</th>\n",
       "      <td>Peraltando</td>\n",
       "      <td>https://www.youtube.com/channel/UCD7DbdP2usOhN...</td>\n",
       "      <td>Membro Normal</td>\n",
       "      <td>12.557000</td>\n",
       "      <td>17.266700</td>\n",
       "      <td>Re-joined</td>\n",
       "      <td>2024-09-24T18:18:50.022-07:00</td>\n",
       "    </tr>\n",
       "    <tr>\n",
       "      <th>2</th>\n",
       "      <td>Júlio César de Oliveira</td>\n",
       "      <td>https://www.youtube.com/channel/UCeLsr6mzZPLpk...</td>\n",
       "      <td>Membro Normal</td>\n",
       "      <td>3.333330</td>\n",
       "      <td>3.333330</td>\n",
       "      <td>Re-joined</td>\n",
       "      <td>2024-09-23T07:18:41.513-07:00</td>\n",
       "    </tr>\n",
       "    <tr>\n",
       "      <th>3</th>\n",
       "      <td>Jean Marcos Moreira</td>\n",
       "      <td>https://www.youtube.com/channel/UClCYyOm4Yi4BM...</td>\n",
       "      <td>Lite Plus+</td>\n",
       "      <td>0.333333</td>\n",
       "      <td>14.430100</td>\n",
       "      <td>Re-joined</td>\n",
       "      <td>2024-09-22T17:01:45.138-07:00</td>\n",
       "    </tr>\n",
       "    <tr>\n",
       "      <th>4</th>\n",
       "      <td>Asas da Estrada</td>\n",
       "      <td>https://www.youtube.com/channel/UCHypoo4Hbjapk...</td>\n",
       "      <td>Membro Normal</td>\n",
       "      <td>0.433333</td>\n",
       "      <td>0.433333</td>\n",
       "      <td>Joined</td>\n",
       "      <td>2024-09-20T07:43:30.09-07:00</td>\n",
       "    </tr>\n",
       "  </tbody>\n",
       "</table>\n",
       "</div>"
      ],
      "text/plain": [
       "                    Member                                    Link to profile  \\\n",
       "0            Ivens Cardoso  https://www.youtube.com/channel/UC9CmhZ2L8oh-P...   \n",
       "1               Peraltando  https://www.youtube.com/channel/UCD7DbdP2usOhN...   \n",
       "2  Júlio César de Oliveira  https://www.youtube.com/channel/UCeLsr6mzZPLpk...   \n",
       "3      Jean Marcos Moreira  https://www.youtube.com/channel/UClCYyOm4Yi4BM...   \n",
       "4          Asas da Estrada  https://www.youtube.com/channel/UCHypoo4Hbjapk...   \n",
       "\n",
       "   Current level  Total time on level (months)  Total time as member (months)  \\\n",
       "0  Membro Normal                     27.977400                      51.300000   \n",
       "1  Membro Normal                     12.557000                      17.266700   \n",
       "2  Membro Normal                      3.333330                       3.333330   \n",
       "3     Lite Plus+                      0.333333                      14.430100   \n",
       "4  Membro Normal                      0.433333                       0.433333   \n",
       "\n",
       "  Last update          Last update timestamp  \n",
       "0   Re-joined  2024-10-03T05:02:56.298-07:00  \n",
       "1   Re-joined  2024-09-24T18:18:50.022-07:00  \n",
       "2   Re-joined  2024-09-23T07:18:41.513-07:00  \n",
       "3   Re-joined  2024-09-22T17:01:45.138-07:00  \n",
       "4      Joined   2024-09-20T07:43:30.09-07:00  "
      ]
     },
     "execution_count": 36,
     "metadata": {},
     "output_type": "execute_result"
    }
   ],
   "source": [
    "tabela_membros_old = pd.read_csv(file_membros_old)\n",
    "tabela_membros_old.head()"
   ]
  },
  {
   "cell_type": "code",
   "execution_count": 37,
   "id": "6f34e57b",
   "metadata": {},
   "outputs": [
    {
     "data": {
      "text/html": [
       "<div>\n",
       "<style scoped>\n",
       "    .dataframe tbody tr th:only-of-type {\n",
       "        vertical-align: middle;\n",
       "    }\n",
       "\n",
       "    .dataframe tbody tr th {\n",
       "        vertical-align: top;\n",
       "    }\n",
       "\n",
       "    .dataframe thead th {\n",
       "        text-align: right;\n",
       "    }\n",
       "</style>\n",
       "<table border=\"1\" class=\"dataframe\">\n",
       "  <thead>\n",
       "    <tr style=\"text-align: right;\">\n",
       "      <th></th>\n",
       "      <th>Membros</th>\n",
       "      <th>Nível atual</th>\n",
       "      <th>Link do perfil</th>\n",
       "      <th>Order</th>\n",
       "    </tr>\n",
       "  </thead>\n",
       "  <tbody>\n",
       "    <tr>\n",
       "      <th>0</th>\n",
       "      <td>Felipe Neves</td>\n",
       "      <td>Membro Premium</td>\n",
       "      <td>https://www.youtube.com/channel/UCxM5VPQ4DFAec...</td>\n",
       "      <td>1</td>\n",
       "    </tr>\n",
       "    <tr>\n",
       "      <th>1</th>\n",
       "      <td>Flávio Barbosa</td>\n",
       "      <td>Membro Premium</td>\n",
       "      <td>https://www.youtube.com/channel/UCKvdIc2e9KhHL...</td>\n",
       "      <td>1</td>\n",
       "    </tr>\n",
       "    <tr>\n",
       "      <th>2</th>\n",
       "      <td>Asas da Estrada</td>\n",
       "      <td>Membro Normal</td>\n",
       "      <td>https://www.youtube.com/channel/UCHypoo4Hbjapk...</td>\n",
       "      <td>2</td>\n",
       "    </tr>\n",
       "    <tr>\n",
       "      <th>3</th>\n",
       "      <td>Eletronik Gameplays</td>\n",
       "      <td>Membro Normal</td>\n",
       "      <td>https://www.youtube.com/channel/UCGcbh6slTDrmc...</td>\n",
       "      <td>2</td>\n",
       "    </tr>\n",
       "    <tr>\n",
       "      <th>4</th>\n",
       "      <td>Felipe Alves</td>\n",
       "      <td>Membro Normal</td>\n",
       "      <td>https://www.youtube.com/channel/UCjQtafDeRJt3V...</td>\n",
       "      <td>2</td>\n",
       "    </tr>\n",
       "  </tbody>\n",
       "</table>\n",
       "</div>"
      ],
      "text/plain": [
       "               Membros     Nível atual  \\\n",
       "0         Felipe Neves  Membro Premium   \n",
       "1       Flávio Barbosa  Membro Premium   \n",
       "2      Asas da Estrada   Membro Normal   \n",
       "3  Eletronik Gameplays   Membro Normal   \n",
       "4         Felipe Alves   Membro Normal   \n",
       "\n",
       "                                      Link do perfil  Order  \n",
       "0  https://www.youtube.com/channel/UCxM5VPQ4DFAec...      1  \n",
       "1  https://www.youtube.com/channel/UCKvdIc2e9KhHL...      1  \n",
       "2  https://www.youtube.com/channel/UCHypoo4Hbjapk...      2  \n",
       "3  https://www.youtube.com/channel/UCGcbh6slTDrmc...      2  \n",
       "4  https://www.youtube.com/channel/UCjQtafDeRJt3V...      2  "
      ]
     },
     "execution_count": 37,
     "metadata": {},
     "output_type": "execute_result"
    }
   ],
   "source": [
    "if 'Member' in tabela_membros_old.columns:\n",
    "    tabela_membros_old.rename(columns={\"Member\": \"Membros\", \n",
    "                           \"Link to profile\": \"Link do perfil\", \n",
    "                           \"Current level\": \"Nível atual\" }, inplace=True)\n",
    "    \n",
    "tabela_membros_old = tabela_membros_old[['Membros', 'Nível atual', 'Link do perfil']]\n",
    "tabela_membros_old['Order'] = tabela_membros_old['Nível atual'].map(order_mapping)\n",
    "tabela_membros_old = tabela_membros_old.sort_values(by=['Order', 'Membros'], ascending=[True, True],\n",
    "                                           ignore_index=True)\n",
    "tabela_membros_old.head()"
   ]
  },
  {
   "cell_type": "code",
   "execution_count": 38,
   "id": "7e07b993",
   "metadata": {},
   "outputs": [
    {
     "data": {
      "text/plain": [
       "(36, 4)"
      ]
     },
     "execution_count": 38,
     "metadata": {},
     "output_type": "execute_result"
    }
   ],
   "source": [
    "tabela_membros_old.shape"
   ]
  },
  {
   "cell_type": "code",
   "execution_count": 39,
   "id": "37a86f8d",
   "metadata": {},
   "outputs": [],
   "source": [
    "nomes_ausentes = tabela_membros_old[~tabela_membros_old['Link do perfil'].isin(tabela_membros['Link do perfil'])]"
   ]
  },
  {
   "cell_type": "code",
   "execution_count": 40,
   "id": "b04ae605",
   "metadata": {},
   "outputs": [
    {
     "name": "stdout",
     "output_type": "stream",
     "text": [
      "          Membros Nível atual\n",
      "15  A1ien0bserver  Lite Plus+\n",
      "31       Nur Dian        Lite\n",
      "35         films         Lite\n"
     ]
    }
   ],
   "source": [
    "print(nomes_ausentes[['Membros', 'Nível atual']])"
   ]
  },
  {
   "cell_type": "code",
   "execution_count": null,
   "id": "b9bc6924",
   "metadata": {},
   "outputs": [],
   "source": []
  },
  {
   "cell_type": "markdown",
   "id": "7ddefa99",
   "metadata": {},
   "source": [
    "#### Quem entrou no clube de membros"
   ]
  },
  {
   "cell_type": "code",
   "execution_count": 41,
   "id": "573dda56",
   "metadata": {},
   "outputs": [],
   "source": [
    "novos_membros = tabela_membros[~tabela_membros['Link do perfil'].isin(tabela_membros_old['Link do perfil'])]"
   ]
  },
  {
   "cell_type": "code",
   "execution_count": 42,
   "id": "60979e4b",
   "metadata": {},
   "outputs": [
    {
     "name": "stdout",
     "output_type": "stream",
     "text": [
      "           Membros    Nível atual\n",
      "10  Lucas Ferreira  Membro Normal\n",
      "16     TheFireKing  Membro Normal\n",
      "34     Victor lima           Lite\n"
     ]
    }
   ],
   "source": [
    "print(novos_membros[['Membros', 'Nível atual']])"
   ]
  },
  {
   "cell_type": "code",
   "execution_count": null,
   "id": "5456b4d1",
   "metadata": {},
   "outputs": [],
   "source": []
  },
  {
   "cell_type": "code",
   "execution_count": null,
   "id": "eb8aa45b",
   "metadata": {},
   "outputs": [],
   "source": []
  }
 ],
 "metadata": {
  "kernelspec": {
   "display_name": "Python 3 (ipykernel)",
   "language": "python",
   "name": "python3"
  },
  "language_info": {
   "codemirror_mode": {
    "name": "ipython",
    "version": 3
   },
   "file_extension": ".py",
   "mimetype": "text/x-python",
   "name": "python",
   "nbconvert_exporter": "python",
   "pygments_lexer": "ipython3",
   "version": "3.11.4"
  }
 },
 "nbformat": 4,
 "nbformat_minor": 5
}
